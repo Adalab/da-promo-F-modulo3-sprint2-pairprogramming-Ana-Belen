{
 "cells": [
  {
   "cell_type": "code",
   "execution_count": 2,
   "metadata": {},
   "outputs": [],
   "source": [
    "# importamos las librerías que necesitamos\n",
    "\n",
    "# Tratamiento de datos\n",
    "# -----------------------------------------------------------------------\n",
    "import pandas as pd\n",
    "import numpy as np\n",
    "\n",
    "# Visualización\n",
    "# ------------------------------------------------------------------------------\n",
    "import matplotlib.pyplot as plt\n",
    "import seaborn as sns\n",
    "\n",
    "# Evaluar linealidad de las relaciones entre las variables\n",
    "# y la distribución de las variables\n",
    "# ------------------------------------------------------------------------------\n",
    "#import scipy.stats as stats\n",
    "from scipy.stats import shapiro,  poisson, chisquare, expon, kstest\n",
    "from scipy import stats\n",
    "\n",
    "# Configuración\n",
    "# -----------------------------------------------------------------------\n",
    "pd.set_option('display.max_columns', None) # para poder visualizar todas las columnas de los DataFrames"
   ]
  },
  {
   "cell_type": "code",
   "execution_count": 3,
   "metadata": {},
   "outputs": [
    {
     "name": "stdout",
     "output_type": "stream",
     "text": [
      "Requirement already satisfied: scipy in /home/nuskkk/anaconda3/lib/python3.9/site-packages (1.7.1)\n",
      "Requirement already satisfied: numpy<1.23.0,>=1.16.5 in /home/nuskkk/anaconda3/lib/python3.9/site-packages (from scipy) (1.20.3)\n",
      "Note: you may need to restart the kernel to use updated packages.\n"
     ]
    }
   ],
   "source": [
    "pip install scipy"
   ]
  },
  {
   "cell_type": "code",
   "execution_count": 4,
   "metadata": {},
   "outputs": [],
   "source": [
    "df= pd.read_csv('pair_nulos.csv',index_col = 0)"
   ]
  },
  {
   "cell_type": "code",
   "execution_count": 5,
   "metadata": {},
   "outputs": [],
   "source": [
    "# Igual que en los ejercicios de la clase invertida, evalúa si las siguientes afirmaciones corresponden \n",
    "# a una distribución exponencial o poisson.\n",
    "# 1 ¿El tiempo que transcurre entre la llegada de autobuses a una parada sigue una distribución exponencial o de Poisson?\n",
    "# Distribución exponencial porque describe el tiempo entre enventos sucesivos.\n",
    "# 2 ¿El número de errores en un artículo de noticias sigue una distribución exponencial o de Poisson?\n",
    "# Distribución de Possion porque modela el numero de eventos raros que suceden en un espacio.\n",
    "# 3 ¿El tiempo que transcurre entre la llegada de solicitudes de servicio en un restaurante sigue una distribución exponencial o de Poisson?\n",
    "# Distribución exponencial porque describe el tiempo entre la llegada de solicitudes.\n",
    "#4 ¿El número de accidentes de tráfico en una hora en una ciudad sigue una distribución exponencial o de Poisson?\n",
    "# Distribución de Possion porque modela el numero de eventos raros que suceden en un periodo de tiempo.\n",
    "\n",
    "# 5 ¿El tiempo entre llegadas de llamadas telefónicas a una central de emergencias sigue una distribución exponencial o de Poisson?\n",
    "# Distribución exponencial porque describe el tiempo entre la llegada de llamadas telefónicas.\n",
    "# 6 ¿El número de clientes que ingresan a una tienda en una hora sigue una distribución exponencial o de Poisson?\n",
    "# Distribución de Possion porque modela el numero de eventos raros que suceden en un espacio.\n",
    "\n",
    "# ¿El tiempo entre llegadas de correos electrónicos en una bandeja de entrada sigue una distribución exponencial o de Poisson?\n",
    "## Distribución exponencial porque describe el tiempo entre la llegada de emails.\n",
    "# ¿El número de defectos en una línea de producción por día sigue una distribución exponencial o de Poisson?\n",
    "# Distribución de Possion porque modela el numero de eventos raros que suceden en un tiempo.\n",
    "# ¿El tiempo que transcurre entre la llegada de taxis en una parada sigue una distribución exponencial o de Poisson?\n",
    "# Distribución exponencial porque describe el tiempo entre la llegada de emails.\n",
    "# ¿El número de errores de ortografía en un libro de texto sigue una distribución exponencial o de Poisson?\n",
    "# Distribución de Possion porque modela el numero de eventos raros que suceden en un tiempo."
   ]
  },
  {
   "cell_type": "code",
   "execution_count": 6,
   "metadata": {},
   "outputs": [],
   "source": [
    "# Ejercicios intervalo de confianza. Al igual que en el caso del ejercicio de la clase invertida, \n",
    "# piensa un motivo por el que sería interesante calcular estos intervalos de confianza para la extracción de insights.\n",
    "\n",
    "# Intervalo de Confianza para la Esperanza de Vida\n",
    "# Contexto: Trabajas en una organización de salud global y deseas estimar el intervalo de confianza al 95% \n",
    "# para la esperanza de vida promedio de cada continente.\n",
    "# Nota: Cuidado porque puede que os salgan algunos nulos, genera un código para que no salgan nulos en los intervalos de confianza.\n",
    "\n",
    "# queremos estudiar la comparativa de esperanza de vida media por continente, para, a nivel global, tomar decisiones a nivel estratégico"
   ]
  },
  {
   "cell_type": "code",
   "execution_count": 7,
   "metadata": {},
   "outputs": [
    {
     "data": {
      "text/plain": [
       "Index(['country', 'density', 'abbreviation', 'agriculturalland', 'landarea',\n",
       "       'armedforcessize', 'birthrate', 'callingcode', 'capital/majorcity',\n",
       "       'co2-emissions', 'cpi', 'cpichange', 'currency-code', 'fertilityrate',\n",
       "       'forestedarea', 'gasolineprice', 'gdp',\n",
       "       'grossprimaryeducationenrollment', 'grosstertiaryeducationenrollment',\n",
       "       'infantmortality', 'largestcity', 'lifeexpectancy',\n",
       "       'maternalmortalityratio', 'minimumwage', 'officiallanguage',\n",
       "       'outofpockethealthexpenditure', 'physiciansperthousand', 'population',\n",
       "       'populationlaborforceparticipation', 'taxrevenue', 'totaltaxrate',\n",
       "       'unemploymentrate', 'urban_population', 'lattitude', 'longitude',\n",
       "       'continente'],\n",
       "      dtype='object')"
      ]
     },
     "execution_count": 7,
     "metadata": {},
     "output_type": "execute_result"
    }
   ],
   "source": [
    "df.columns"
   ]
  },
  {
   "cell_type": "code",
   "execution_count": 8,
   "metadata": {},
   "outputs": [
    {
     "data": {
      "text/plain": [
       "<AxesSubplot:xlabel='lifeexpectancy', ylabel='Count'>"
      ]
     },
     "execution_count": 8,
     "metadata": {},
     "output_type": "execute_result"
    },
    {
     "data": {
      "image/png": "[encoded data removed]",
      "text/plain": [
       "<Figure size 432x288 with 1 Axes>"
      ]
     },
     "metadata": {
      "needs_background": "light"
     },
     "output_type": "display_data"
    }
   ],
   "source": [
    "sns.histplot(data=df, x='lifeexpectancy')"
   ]
  },
  {
   "cell_type": "code",
   "execution_count": 9,
   "metadata": {},
   "outputs": [
    {
     "name": "stdout",
     "output_type": "stream",
     "text": [
      "continente\n",
      "América del Norte    (73.29119033550846, 76.73738109306295)\n",
      "América del Sur      (72.94535743062862, 76.92130923603806)\n",
      "Asia                 (72.37466101428559, 75.22533898571446)\n",
      "Desconocido          (68.59103736516008, 77.14229596817324)\n",
      "Europa               (78.13507999114816, 80.50081744474929)\n",
      "Oceanía              (67.35995898766673, 75.49458646687872)\n",
      "África               (61.83577210326866, 65.30300340693543)\n",
      "Name: lifeexpectancy, dtype: object\n"
     ]
    }
   ],
   "source": [
    "# Eliminar filas con valores nulos en 'esperanza_vida'\n",
    "data = df.dropna(subset=['lifeexpectancy'])\n",
    "\n",
    "# Calcular intervalos de confianza para la esperanza de vida por continente\n",
    "intervalos_confianza = data.groupby('continente')['lifeexpectancy'].agg(lambda x: stats.t.interval(0.95, len(x)-1, loc=np.mean(x), scale=stats.sem(x)))\n",
    "\n",
    "# intervalo de confianza al 95% para la esperanza de vida promedio de cada continente.\n",
    "print(intervalos_confianza)"
   ]
  },
  {
   "cell_type": "code",
   "execution_count": 10,
   "metadata": {},
   "outputs": [
    {
     "name": "stdout",
     "output_type": "stream",
     "text": [
      "continente\n",
      "América del Norte    5.307950e+09\n",
      "América del Sur      7.908478e+10\n",
      "Asia                 4.512226e+10\n",
      "Desconocido         -7.897916e+11\n",
      "Europa               2.831550e+11\n",
      "Oceanía             -5.068753e+10\n",
      "África               2.810666e+10\n",
      "Name: gdp, dtype: float64\n",
      "continente\n",
      "América del Norte    5.307950e+09\n",
      "América del Sur      7.908478e+10\n",
      "Asia                 4.512226e+10\n",
      "Desconocido         -7.897916e+11\n",
      "Europa               2.831550e+11\n",
      "Oceanía             -5.068753e+10\n",
      "África               2.810666e+10\n",
      "Name: gdp, dtype: float64\n"
     ]
    }
   ],
   "source": [
    "# Intervalo de Confianza para el PIB\n",
    "# Contexto: Eres una economista y quieres calcular el intervalo de confianza al 90% para el Producto Interno Bruto (PIB) \n",
    "# de los continentes.\n",
    "\n",
    "data = df.dropna(subset=['gdp'])\n",
    "\n",
    "# Calcular intervalos de confianza para gdp por continente\n",
    "media_confi_gdp = data.groupby('continente')['gdp'].mean()\n",
    "error_gdp = data.groupby('continente')['gdp'].apply(stats.sem)  # Calcular el error por continente\n",
    "nivel_confi = 0.90\n",
    "grados_libertad = len(data['gdp'])-1\n",
    "valor_critico = stats.t.ppf((1+nivel_confi)/2, df=grados_libertad)\n",
    "lim_inf = media_confi_gdp-valor_critico*error_gdp\n",
    "lim_sup = media_confi_gdp+valor_critico*error_gdp\n",
    "print(lim_inf)\n",
    "print(lim_inf)"
   ]
  },
  {
   "cell_type": "code",
   "execution_count": 11,
   "metadata": {},
   "outputs": [],
   "source": [
    "# Intervalo de Confianza para la Tasa de Natalidad BELEN\n",
    "# Contexto: Trabajas en una agencia gubernamental que se ocupa de cuestiones demográficas y deseas determinar el intervalo de confianza al 99% para la tasa de natalidad promedio en Asia.\n",
    "\n"
   ]
  },
  {
   "cell_type": "code",
   "execution_count": 18,
   "metadata": {},
   "outputs": [
    {
     "name": "stdout",
     "output_type": "stream",
     "text": [
      "Tasa de desempleo promedio en Oceanía: 3.79\n",
      "Intervalo de confianza al 95.0%: (1.73, 5.86)\n"
     ]
    }
   ],
   "source": [
    "# Intervalo de Confianza para la Tasa de Desempleo\n",
    "# Contexto: Eres un analista de políticas públicas y deseas calcular el intervalo de confianza al 95% para la tasa de desempleo promedio en los países de Oceanía.\n",
    "\n",
    "data = df.dropna(subset=['unemploymentrate'])\n",
    "\n",
    "\n",
    "# Filtra los datos para incluir solo los países de Oceanía\n",
    "oceania_p = data[data['continente'] == 'Oceanía']\n",
    "tasas_desempleo = oceania_p['unemploymentrate']\n",
    "media = np.mean(tasas_desempleo)\n",
    "desviacion_estandar = np.std(tasas_desempleo)\n",
    "grados_libertad2 = len(tasas_desempleo)\n",
    "nivel_confianza = 0.95\n",
    "error_estandar = stats.sem(tasas_desempleo)\n",
    "intervalo_confianza = stats.t.interval(nivel_confianza, grados_libertad2 - 1, loc=media, scale=error_estandar)\n",
    "\n",
    "# Muestra los resultados\n",
    "print(f\"Tasa de desempleo promedio en Oceanía: {media:.2f}\")\n",
    "print(f\"Intervalo de confianza al {nivel_confianza * 100}%: ({intervalo_confianza[0]:.2f}, {intervalo_confianza[1]:.2f})\")\n"
   ]
  },
  {
   "cell_type": "code",
   "execution_count": 14,
   "metadata": {},
   "outputs": [],
   "source": [
    "# Intervalo de Confianza para la Tasa de Impuestos BELEN\n",
    "# Contexto: Trabajas en un ministerio de finanzas y deseas estimar el intervalo de confianza al 90% para la tasa de impuestos promedio en los países de África."
   ]
  },
  {
   "cell_type": "code",
   "execution_count": 24,
   "metadata": {},
   "outputs": [
    {
     "name": "stdout",
     "output_type": "stream",
     "text": [
      "T-estadística: -0.6072\n",
      "Valor p: 0.5494\n",
      "No podemos rechazar la hipótesis nula: No hay evidencia suficiente para afirmar una diferencia significativa en la tasa de desempleo entre Europa y América del Norte.\n"
     ]
    }
   ],
   "source": [
    "# Ejercicios prueba de hipótesis: Hasta ahora en la lección y en los ejercicios de la clase invertida os hemos propuesto un contexto y \n",
    "# unas hipótesis para entender que es la prueba de hipótesis. Ahora es tu turno, tienes que pensar en 2 hipótesis que quieras aceptar o \n",
    "# rechazar usando una prueba de hipótesis en base a los datos que tenemos.\n",
    "\n",
    "#Hipótesis 1: Tasa de Desempleo en dos continentes, Europa y América del Norte\n",
    "# H0 = No hay diferencias\n",
    "# H1 = Existen diferencias significativas en la tasa de empleo de ambos continentes\n",
    "\n",
    "data = df.dropna(subset=['unemploymentrate'])\n",
    "\n",
    "europa_df = data[data['continente'] == 'Europa']\n",
    "na_df = data[data['continente'] == 'América del Norte']\n",
    "\n",
    "tdes_europa = europa_df['unemploymentrate']\n",
    "tdes_na = na_df['unemploymentrate']\n",
    "t_stat, p_value = stats.ttest_ind(tdes_europa, tdes_na, equal_var=False)\n",
    "print(f\"T-estadística: {t_stat.round(4)}\")\n",
    "print(f\"Valor p: {p_value.round(4)}\")\n",
    "nivel_significativo = 0.05\n",
    "if p_value < nivel_significativo:\n",
    "    print(\"Rechazamos la hipótesis nula: Existe una diferencia significativa en la tasa de desempleo entre Europa y América del Norte.\")\n",
    "else:\n",
    "    print(\"No podemos rechazar la hipótesis nula: No hay evidencia suficiente para afirmar una diferencia significativa en la tasa de desempleo entre Europa y América del Norte.\")\n"
   ]
  }
 ],
 "metadata": {
  "kernelspec": {
   "display_name": "base",
   "language": "python",
   "name": "python3"
  },
  "language_info": {
   "codemirror_mode": {
    "name": "ipython",
    "version": 3
   },
   "file_extension": ".py",
   "mimetype": "text/x-python",
   "name": "python",
   "nbconvert_exporter": "python",
   "pygments_lexer": "ipython3",
   "version": "3.9.7"
  }
 },
 "nbformat": 4,
 "nbformat_minor": 2
}
